{
 "cells": [
  {
   "cell_type": "code",
   "execution_count": 1,
   "id": "03da2906-cf3e-4beb-84b5-18ec643ad4ad",
   "metadata": {},
   "outputs": [],
   "source": [
    "import os\n",
    "\n",
    "# Update the path to your downloaded service account key\n",
    "os.environ[\"GOOGLE_APPLICATION_CREDENTIALS\"] = \".json\""
   ]
  },
  {
   "cell_type": "code",
   "execution_count": 3,
   "id": "5e5c5b29-7b6d-4984-81d0-90e6995ca3d2",
   "metadata": {},
   "outputs": [
    {
     "name": "stdout",
     "output_type": "stream",
     "text": [
      "Hi there! How can I help you today?\n"
     ]
    }
   ],
   "source": [
    "import vertexai\n",
    "from vertexai.preview.generative_models import GenerativeModel\n",
    "\n",
    "project_id = 'project_id'\n",
    "location = 'location'\n",
    "vertexai.init(project=project_id,location = location)"
   ]
  },
  {
   "cell_type": "code",
   "execution_count": 10,
   "id": "8ff7322a-f455-40bf-bff6-8cedfbc78fcc",
   "metadata": {},
   "outputs": [
    {
     "name": "stdout",
     "output_type": "stream",
     "text": [
      "Hi there! How can I help you today?\n"
     ]
    }
   ],
   "source": [
    "model = GenerativeModel('gemini-2.5-pro')\n",
    "response = model.generate_content('Say hi')\n",
    "\n",
    "print(response.text)"
   ]
  },
  {
   "cell_type": "code",
   "execution_count": 14,
   "id": "150200f7-c1ba-4830-abab-841a80dd69f8",
   "metadata": {},
   "outputs": [],
   "source": [
    "import vertexai\n",
    "from vertexai.preview.generative_models import GenerativeModel, Image\n",
    "PROJECT_ID = \"project_id\"\n",
    "REGION = \"location\"\n",
    "vertexai.init(project=PROJECT_ID, location=REGION)"
   ]
  },
  {
   "cell_type": "code",
   "execution_count": 15,
   "id": "0d1eb16d-b360-4cf1-b159-57ff4c308c35",
   "metadata": {},
   "outputs": [
    {
     "name": "stdout",
     "output_type": "stream",
     "text": [
      "candidates {\n",
      "  content {\n",
      "    role: \"model\"\n",
      "    parts {\n",
      "      text: \"To calculate the availability index of Cavin\\'s milkshake, we need to:\\n\\n1.  **Identify all \\\"Cavin\\'s\\\" branded products** visible in the image.\\n2.  **Identify specifically \\\"Cavin\\'s Milkshake\\\" products** among them.\\n3.  Calculate the ratio.\\n\\n**Step 1: Identify all visible \\\"Cavin\\'s\\\" branded products:**\\n\\n*   **Top shelf:**\\n    *   There are two bottles of \\\"Cavin\\'s Badam Flavoured Milk\\\".\\n    *   There is one bottle of \\\"Cavin\\'s Kesar Flavoured Milk\\\".\\n    *   Total Cavin\\'s flavoured milk bottles = 2 + 1 = 3.\\n*   **Bottom shelf:**\\n    *   There is one clearly visible carton of \\\"Cavin\\'s Kaju Butterscotch Milkshake\\\".\\n    *   To the right of this carton, there is another partially obscured carton. While it shares a similar form factor, its branding and product type are not clearly visible or identifiable as \\\"Cavin\\'s Milkshake\\\". Therefore, we will only count the clearly identifiable one.\\n\\n*   **Total clearly identifiable Cavin\\'s products = 3 (flavoured milk) + 1 (milkshake) = 4 products.**\\n\\n**Step 2: Identify \\\"Cavin\\'s Milkshake\\\" products:**\\n\\n*   Based on the labels, only one product is explicitly named \\\"Cavin\\'s Kaju Butterscotch Milkshake\\\". The other Cavin\\'s products are labeled as \\\"Flavoured Milk\\\".\\n*   **Number of Cavin\\'s Milkshake products = 1.**\\n\\n**Step 3: Calculate the Availability Index:**\\n\\nThe availability index can be calculated as the ratio of \\\"Cavin\\'s Milkshake\\\" products to the total number of \\\"Cavin\\'s\\\" branded products available in the display.\\n\\nAvailability Index = (Number of Cavin\\'s Milkshake products / Total number of Cavin\\'s products) * 100\\n\\nAvailability Index = (1 / 4) * 100 = 25%\\n\\nThe availability index of Cavin\\'s milkshake is **25%**.\"\n",
      "    }\n",
      "  }\n",
      "  finish_reason: STOP\n",
      "  avg_logprobs: -1.9621319314707881\n",
      "}\n",
      "usage_metadata {\n",
      "  prompt_token_count: 2591\n",
      "  candidates_token_count: 460\n",
      "  total_token_count: 5344\n",
      "}\n",
      "model_version: \"gemini-2.5-flash\"\n",
      "\n"
     ]
    }
   ],
   "source": [
    "IMAGE_FILE = \"GT0100020009130002000913_5061066480_5454206789458045.jpg\"\n",
    "image = Image.load_from_file(IMAGE_FILE)\n",
    "generative_multimodal_model = GenerativeModel(\"gemini-2.5-flash\")\n",
    "response = generative_multimodal_model.generate_content([\"Calculate the availability index of cavin's milkshake?\", image])\n",
    "print(response)"
   ]
  },
  {
   "cell_type": "code",
   "execution_count": null,
   "id": "3f32cb68-53db-42f2-bcbf-332020b70126",
   "metadata": {},
   "outputs": [],
   "source": []
  }
 ],
 "metadata": {
  "kernelspec": {
   "display_name": "Python 3 (ipykernel)",
   "language": "python",
   "name": "python3"
  },
  "language_info": {
   "codemirror_mode": {
    "name": "ipython",
    "version": 3
   },
   "file_extension": ".py",
   "mimetype": "text/x-python",
   "name": "python",
   "nbconvert_exporter": "python",
   "pygments_lexer": "ipython3",
   "version": "3.10.12"
  }
 },
 "nbformat": 4,
 "nbformat_minor": 5
}
